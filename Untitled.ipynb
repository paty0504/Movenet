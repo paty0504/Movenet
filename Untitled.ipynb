{
 "cells": [
  {
   "cell_type": "code",
   "execution_count": 1,
   "id": "e360a7d8",
   "metadata": {},
   "outputs": [],
   "source": [
    "import tensorflow as tf\n",
    "import tensorflow_hub as hub"
   ]
  },
  {
   "cell_type": "code",
   "execution_count": 2,
   "id": "62ca8853",
   "metadata": {},
   "outputs": [],
   "source": [
    "image_path = 'yoga.png'\n",
    "image = tf.io.read_file(image_path)\n",
    "image = tf.compat.v1.image.decode_jpeg(image)\n",
    "image = tf.expand_dims(image, axis=0)\n",
    "# Resize and pad the image to keep the aspect ratio and fit the expected size.\n",
    "image = tf.cast(tf.image.resize_with_pad(image, 256, 256), dtype=tf.int32)\n",
    "\n",
    "# Download the model from TF Hub.\n",
    "model = hub.load(\"https://tfhub.dev/google/movenet/singlepose/thunder/4\")\n",
    "movenet = model.signatures['serving_default']\n",
    "\n",
    "# Run model inference.\n",
    "outputs = movenet(image)\n",
    "# Output is a [1, 1, 17, 3] tensor.\n",
    "keypoints = outputs['output_0']"
   ]
  },
  {
   "cell_type": "code",
   "execution_count": 4,
   "id": "1989481d",
   "metadata": {},
   "outputs": [
    {
     "data": {
      "text/plain": [
       "<tf.Tensor: shape=(1, 1, 17, 3), dtype=float32, numpy=\n",
       "array([[[[0.44635364, 0.7109357 , 0.47254837],\n",
       "         [0.43606815, 0.72240174, 0.455421  ],\n",
       "         [0.43797547, 0.72088075, 0.44527933],\n",
       "         [0.46603084, 0.7590668 , 0.4263916 ],\n",
       "         [0.4716418 , 0.76027   , 0.38628432],\n",
       "         [0.55198944, 0.7460396 , 0.55774796],\n",
       "         [0.55025214, 0.75182694, 0.4326088 ],\n",
       "         [0.5237005 , 0.6439693 , 0.25828815],\n",
       "         [0.5223536 , 0.67019814, 0.24174291],\n",
       "         [0.47718978, 0.5936788 , 0.24917975],\n",
       "         [0.4823965 , 0.647342  , 0.22205132],\n",
       "         [0.7811019 , 0.633157  , 0.62658846],\n",
       "         [0.7782056 , 0.66293424, 0.5122249 ],\n",
       "         [0.55064636, 0.55247015, 0.46753427],\n",
       "         [0.5397945 , 0.5794545 , 0.16738364],\n",
       "         [0.38732556, 0.47686368, 0.45448822],\n",
       "         [0.37450704, 0.4687839 , 0.3020972 ]]]], dtype=float32)>"
      ]
     },
     "execution_count": 4,
     "metadata": {},
     "output_type": "execute_result"
    }
   ],
   "source": [
    "keypoints"
   ]
  },
  {
   "cell_type": "code",
   "execution_count": null,
   "id": "59d5f6f2",
   "metadata": {},
   "outputs": [],
   "source": []
  }
 ],
 "metadata": {
  "kernelspec": {
   "display_name": "Python 3",
   "language": "python",
   "name": "python3"
  },
  "language_info": {
   "codemirror_mode": {
    "name": "ipython",
    "version": 3
   },
   "file_extension": ".py",
   "mimetype": "text/x-python",
   "name": "python",
   "nbconvert_exporter": "python",
   "pygments_lexer": "ipython3",
   "version": "3.9.1"
  }
 },
 "nbformat": 4,
 "nbformat_minor": 5
}
